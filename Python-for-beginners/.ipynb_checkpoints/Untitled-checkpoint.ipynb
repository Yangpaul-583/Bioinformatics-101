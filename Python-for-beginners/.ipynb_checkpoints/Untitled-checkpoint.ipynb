{
 "cells": [
  {
   "cell_type": "code",
   "execution_count": 22,
   "id": "535c54f3-3cf1-4fe5-84d7-9cc3b6991876",
   "metadata": {},
   "outputs": [
    {
     "name": "stdout",
     "output_type": "stream",
     "text": [
      "Hello world!\n"
     ]
    }
   ],
   "source": [
    "#say\n",
    "print('Hello world!')"
   ]
  },
  {
   "cell_type": "markdown",
   "id": "eab0b50d-cc15-499f-818f-6a49ced2c127",
   "metadata": {},
   "source": [
    "How to add annotation: select cell on the left and press \"m\""
   ]
  },
  {
   "cell_type": "code",
   "execution_count": 24,
   "id": "3c4d0e69-22bd-4f8e-ab24-daf235f8b479",
   "metadata": {},
   "outputs": [],
   "source": [
    "#set variables\n",
    "my_variable = 1\n",
    "my_love = 3"
   ]
  },
  {
   "cell_type": "markdown",
   "id": "f5c804ba-9b0e-4f3d-b2b4-4d59d7c06d1b",
   "metadata": {},
   "source": [
    "按tab可以自动补全名称，前提是该名称出现过，或者该名称为python内置"
   ]
  },
  {
   "cell_type": "markdown",
   "id": "3635af62-b14b-4368-a0a7-f369902d12f0",
   "metadata": {},
   "source": [
    "按ctrl+/可以快速注释，mac是command\n",
    "按ctrl+s保存"
   ]
  },
  {
   "cell_type": "markdown",
   "id": "35a87e67-a603-413b-ae6a-25eb76939a7b",
   "metadata": {},
   "source": [
    "B：在当前cell下方插入新的cell\n",
    "A：在当前cell上方插入新的cell\n",
    "换行：行后加两个空格"
   ]
  },
  {
   "cell_type": "markdown",
   "id": "324135c3-0197-49da-9e0c-8df046544868",
   "metadata": {},
   "source": [
    "运行并进入下个cell：shift+enter\n",
    "只运行但不进入下个cell：ctrl+enter （command）"
   ]
  },
  {
   "cell_type": "markdown",
   "id": "ffb38fc5-89dc-446d-b515-78e7bff6d0ec",
   "metadata": {},
   "source": [
    "删除cell:D, D（按两下）"
   ]
  },
  {
   "cell_type": "markdown",
   "id": "2d9489cf-971b-4e72-a145-5363227a3aec",
   "metadata": {},
   "source": [
    "程序cell改注释cell：m\n",
    "注释cell改程序cell：y"
   ]
  },
  {
   "cell_type": "markdown",
   "id": "212c0170-b2d0-42db-b6af-e5adf29cc310",
   "metadata": {},
   "source": [
    "# 一级标题"
   ]
  },
  {
   "cell_type": "markdown",
   "id": "545c1431-b3cd-4dad-90f3-f72c75a5a936",
   "metadata": {},
   "source": [
    "## 二级标题"
   ]
  },
  {
   "cell_type": "markdown",
   "id": "ede8d417-4a74-42f5-8700-0dd1471f6130",
   "metadata": {},
   "source": [
    "### 三级标题\n"
   ]
  },
  {
   "cell_type": "markdown",
   "id": "2ad53424-f594-40e4-932e-ce4c079df327",
   "metadata": {},
   "source": [
    "以上是调整标题的快捷键，分别为1,2,3。不需要cell变为注释cell 即可操作"
   ]
  },
  {
   "cell_type": "markdown",
   "id": "d5a910af-e64d-465f-83ee-189d355147fb",
   "metadata": {},
   "source": [
    "剪切、复制、粘贴cell：分别为X、C、V，注意粘贴默认是在当前选择单元格的下方\n",
    "\n",
    "如果需要粘贴到上方，就用shift+V"
   ]
  },
  {
   "cell_type": "markdown",
   "id": "a62ba7f9-111d-494b-af3a-fb5f4c676522",
   "metadata": {},
   "source": [
    "合并多个单元格：shift+M，注意先使用shift选中"
   ]
  },
  {
   "cell_type": "markdown",
   "id": "b6ca8046-302f-4242-b81f-2d82dc705d58",
   "metadata": {},
   "source": [
    "单个cell添加行号：L\n",
    "全部cell添加行号：shift+L"
   ]
  },
  {
   "cell_type": "markdown",
   "id": "cf5355f8-4640-47eb-934b-4bbf6840beaa",
   "metadata": {},
   "source": []
  },
  {
   "cell_type": "markdown",
   "id": "6db7b767-4ffc-4b55-aa94-b42e183b7dc1",
   "metadata": {},
   "source": []
  },
  {
   "cell_type": "markdown",
   "id": "35aadda1-0595-4feb-b61c-b875a10cdf6b",
   "metadata": {},
   "source": []
  },
  {
   "cell_type": "code",
   "execution_count": null,
   "id": "5655819d-b323-456e-a07f-2e144c352655",
   "metadata": {},
   "outputs": [],
   "source": []
  },
  {
   "cell_type": "code",
   "execution_count": null,
   "id": "b970884f-aa4c-486e-b8b7-0184fe7f383a",
   "metadata": {},
   "outputs": [],
   "source": []
  },
  {
   "cell_type": "code",
   "execution_count": null,
   "id": "928edd33-fa92-47a8-8f0b-7c23bb93becd",
   "metadata": {},
   "outputs": [],
   "source": []
  },
  {
   "cell_type": "code",
   "execution_count": null,
   "id": "0475e133-0715-4aff-ae21-916a2229d0e9",
   "metadata": {},
   "outputs": [],
   "source": []
  },
  {
   "cell_type": "code",
   "execution_count": null,
   "id": "af3cd594-6acb-40cb-9425-84b0105cee9e",
   "metadata": {},
   "outputs": [],
   "source": []
  },
  {
   "cell_type": "code",
   "execution_count": null,
   "id": "ca0df174-75b3-446b-a1af-36e0e391f2fe",
   "metadata": {},
   "outputs": [],
   "source": []
  },
  {
   "cell_type": "code",
   "execution_count": null,
   "id": "2500b721-4419-4d73-8767-948114855704",
   "metadata": {},
   "outputs": [],
   "source": []
  }
 ],
 "metadata": {
  "kernelspec": {
   "display_name": "Python 3 (ipykernel)",
   "language": "python",
   "name": "python3"
  },
  "language_info": {
   "codemirror_mode": {
    "name": "ipython",
    "version": 3
   },
   "file_extension": ".py",
   "mimetype": "text/x-python",
   "name": "python",
   "nbconvert_exporter": "python",
   "pygments_lexer": "ipython3",
   "version": "3.11.7"
  }
 },
 "nbformat": 4,
 "nbformat_minor": 5
}
